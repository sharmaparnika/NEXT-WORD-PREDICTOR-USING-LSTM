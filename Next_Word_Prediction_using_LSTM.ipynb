{
  "nbformat": 4,
  "nbformat_minor": 0,
  "metadata": {
    "colab": {
      "name": "Next_Word_Prediction_using_LSTM.ipynb",
      "provenance": [],
      "authorship_tag": "ABX9TyMX9ihUoJI5Q4wQALrXktE0",
      "include_colab_link": true
    },
    "kernelspec": {
      "name": "python3",
      "display_name": "Python 3"
    },
    "language_info": {
      "name": "python"
    },
    "accelerator": "GPU"
  },
  "cells": [
    {
      "cell_type": "markdown",
      "metadata": {
        "id": "view-in-github",
        "colab_type": "text"
      },
      "source": [
        "<a href=\"https://colab.research.google.com/github/sharmaparnika/NEXT-WORD-PREDICTOR-USING-LSTM/blob/main/Next_Word_Prediction_using_LSTM.ipynb\" target=\"_parent\"><img src=\"https://colab.research.google.com/assets/colab-badge.svg\" alt=\"Open In Colab\"/></a>"
      ]
    },
    {
      "cell_type": "markdown",
      "source": [
        "**Importing the required Libraries:**"
      ],
      "metadata": {
        "id": "_YpzZZQainKl"
      }
    },
    {
      "cell_type": "code",
      "execution_count": 1,
      "metadata": {
        "id": "aowEDS_giZ3B"
      },
      "outputs": [],
      "source": [
        "import tensorflow as tf\n",
        "from tensorflow.keras.preprocessing.text import Tokenizer\n",
        "from tensorflow.keras.layers import Embedding, LSTM, Dense\n",
        "from tensorflow.keras.models import Sequential\n",
        "from tensorflow.keras.utils import to_categorical\n",
        "from tensorflow.keras.optimizers import Adam\n",
        "import pickle\n",
        "import numpy as np\n",
        "import os"
      ]
    },
    {
      "cell_type": "code",
      "source": [
        "from google.colab import files\n",
        "uploaded = files.upload()"
      ],
      "metadata": {
        "colab": {
          "resources": {
            "http://localhost:8080/nbextensions/google.colab/files.js": {
              "data": "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",
              "ok": true,
              "headers": [
                [
                  "content-type",
                  "application/javascript"
                ]
              ],
              "status": 200,
              "status_text": ""
            }
          },
          "base_uri": "https://localhost:8080/",
          "height": 74
        },
        "id": "KGJBROaAik7g",
        "outputId": "4c6bc8cb-ef1c-46b9-c7d0-b3dbe28c25b6"
      },
      "execution_count": 2,
      "outputs": [
        {
          "output_type": "display_data",
          "data": {
            "text/plain": [
              "<IPython.core.display.HTML object>"
            ],
            "text/html": [
              "\n",
              "     <input type=\"file\" id=\"files-db3f9ef6-29c4-419f-90eb-c6abb2fd74a5\" name=\"files[]\" multiple disabled\n",
              "        style=\"border:none\" />\n",
              "     <output id=\"result-db3f9ef6-29c4-419f-90eb-c6abb2fd74a5\">\n",
              "      Upload widget is only available when the cell has been executed in the\n",
              "      current browser session. Please rerun this cell to enable.\n",
              "      </output>\n",
              "      <script src=\"/nbextensions/google.colab/files.js\"></script> "
            ]
          },
          "metadata": {}
        },
        {
          "output_type": "stream",
          "name": "stdout",
          "text": [
            "Saving Art_of_war.txt to Art_of_war.txt\n"
          ]
        }
      ]
    },
    {
      "cell_type": "markdown",
      "source": [
        "**Loading and Pre-processing the data:**"
      ],
      "metadata": {
        "id": "S_3My3D-jBBJ"
      }
    },
    {
      "cell_type": "code",
      "source": [
        "file = open(\"Art_of_war.txt\", \"r\", encoding = \"utf8\")\n",
        "\n",
        "# store file in list\n",
        "lines = []\n",
        "for i in file:\n",
        "    lines.append(i)\n",
        "\n",
        "# Convert list to string\n",
        "data = \"\"\n",
        "for i in lines:\n",
        "  data = ' '. join(lines) \n",
        "\n",
        "#replace unnecessary stuff with space\n",
        "data = data.replace('\\n', '').replace('\\r', '').replace('\\ufeff', '').replace('“','').replace('”','')  #new line, carriage return, unicode character --> replace by space\n",
        "\n",
        "#remove unnecessary spaces \n",
        "data = data.split()\n",
        "data = ' '.join(data)\n",
        "data[:500]"
      ],
      "metadata": {
        "colab": {
          "base_uri": "https://localhost:8080/",
          "height": 70
        },
        "id": "YZ1YhY8pi37j",
        "outputId": "6ff1c08f-e498-456a-81a2-51a966878712"
      },
      "execution_count": 4,
      "outputs": [
        {
          "output_type": "execute_result",
          "data": {
            "text/plain": [
              "'The Project Gutenberg eBook of The Art of War, by Sun Tzŭ This eBook is for the use of anyone anywhere in the United States and most other parts of the world at no cost and with almost no restrictions whatsoever. You may copy it, give it away or re-use it under the terms of the Project Gutenberg License included with this eBook or online at www.gutenberg.org. If you are not located in the United States, you will have to check the laws of the country where you are located before using this eBook.'"
            ],
            "application/vnd.google.colaboratory.intrinsic+json": {
              "type": "string"
            }
          },
          "metadata": {},
          "execution_count": 4
        }
      ]
    },
    {
      "cell_type": "code",
      "source": [
        "\n",
        "len(data)"
      ],
      "metadata": {
        "colab": {
          "base_uri": "https://localhost:8080/"
        },
        "id": "Pkx1yca9jIgW",
        "outputId": "cf5b7da8-42af-44cf-84af-221dbd900a69"
      },
      "execution_count": 5,
      "outputs": [
        {
          "output_type": "execute_result",
          "data": {
            "text/plain": [
              "330166"
            ]
          },
          "metadata": {},
          "execution_count": 5
        }
      ]
    },
    {
      "cell_type": "markdown",
      "source": [
        "**Applying tokenization:**"
      ],
      "metadata": {
        "id": "_UtBdBhFjrzC"
      }
    },
    {
      "cell_type": "code",
      "source": [
        "tokenizer = Tokenizer()\n",
        "tokenizer.fit_on_texts([data])\n",
        "\n",
        "# saving the tokenizer for predict function\n",
        "pickle.dump(tokenizer, open('token.pkl', 'wb'))\n",
        "\n",
        "sequence_data = tokenizer.texts_to_sequences([data])[0]\n",
        "sequence_data[:15]"
      ],
      "metadata": {
        "colab": {
          "base_uri": "https://localhost:8080/"
        },
        "id": "m1-plprujnE2",
        "outputId": "7aed3a3e-82f3-4bc6-a667-c9529fba31c3"
      },
      "execution_count": 6,
      "outputs": [
        {
          "output_type": "execute_result",
          "data": {
            "text/plain": [
              "[1, 84, 76, 557, 2, 1, 139, 2, 53, 15, 23, 36, 19, 557, 7]"
            ]
          },
          "metadata": {},
          "execution_count": 6
        }
      ]
    },
    {
      "cell_type": "code",
      "source": [
        "len(sequence_data)"
      ],
      "metadata": {
        "colab": {
          "base_uri": "https://localhost:8080/"
        },
        "id": "PazW8DGjjzZw",
        "outputId": "f0bc4556-ff51-4bfe-fe98-6f4bd9eab547"
      },
      "execution_count": 7,
      "outputs": [
        {
          "output_type": "execute_result",
          "data": {
            "text/plain": [
              "59009"
            ]
          },
          "metadata": {},
          "execution_count": 7
        }
      ]
    },
    {
      "cell_type": "code",
      "source": [
        "vocab_size = len(tokenizer.word_index) + 1\n",
        "print(vocab_size)"
      ],
      "metadata": {
        "colab": {
          "base_uri": "https://localhost:8080/"
        },
        "id": "Tgwy9ZLpj2uN",
        "outputId": "e5ae27d1-4538-4d04-d775-d046042dd1b6"
      },
      "execution_count": 8,
      "outputs": [
        {
          "output_type": "stream",
          "name": "stdout",
          "text": [
            "7092\n"
          ]
        }
      ]
    },
    {
      "cell_type": "code",
      "source": [
        "sequences = []\n",
        "\n",
        "for i in range(3, len(sequence_data)):\n",
        "    words = sequence_data[i-3:i+1]\n",
        "    sequences.append(words)\n",
        "    \n",
        "print(\"The Length of sequences are: \", len(sequences))\n",
        "sequences = np.array(sequences)\n",
        "sequences[:10]"
      ],
      "metadata": {
        "colab": {
          "base_uri": "https://localhost:8080/"
        },
        "id": "uZ5yslZjj40B",
        "outputId": "c83d94fb-205a-4d6b-cc31-2598d68a894d"
      },
      "execution_count": 9,
      "outputs": [
        {
          "output_type": "stream",
          "name": "stdout",
          "text": [
            "The Length of sequences are:  59006\n"
          ]
        },
        {
          "output_type": "execute_result",
          "data": {
            "text/plain": [
              "array([[  1,  84,  76, 557],\n",
              "       [ 84,  76, 557,   2],\n",
              "       [ 76, 557,   2,   1],\n",
              "       [557,   2,   1, 139],\n",
              "       [  2,   1, 139,   2],\n",
              "       [  1, 139,   2,  53],\n",
              "       [139,   2,  53,  15],\n",
              "       [  2,  53,  15,  23],\n",
              "       [ 53,  15,  23,  36],\n",
              "       [ 15,  23,  36,  19]])"
            ]
          },
          "metadata": {},
          "execution_count": 9
        }
      ]
    },
    {
      "cell_type": "code",
      "source": [
        "X = []\n",
        "y = []\n",
        "\n",
        "for i in sequences:\n",
        "    X.append(i[0:3])\n",
        "    y.append(i[3])\n",
        "    \n",
        "X = np.array(X)\n",
        "y = np.array(y)\n"
      ],
      "metadata": {
        "id": "zI-g0e8Cj6oB"
      },
      "execution_count": 10,
      "outputs": []
    },
    {
      "cell_type": "code",
      "source": [
        "print(\"Data: \", X[:10])\n",
        "print(\"Response: \", y[:10])\n"
      ],
      "metadata": {
        "colab": {
          "base_uri": "https://localhost:8080/"
        },
        "id": "gIFlUWFIkAVa",
        "outputId": "a8ee01e6-9abc-4929-fd9b-02c73c5cc684"
      },
      "execution_count": 11,
      "outputs": [
        {
          "output_type": "stream",
          "name": "stdout",
          "text": [
            "Data:  [[  1  84  76]\n",
            " [ 84  76 557]\n",
            " [ 76 557   2]\n",
            " [557   2   1]\n",
            " [  2   1 139]\n",
            " [  1 139   2]\n",
            " [139   2  53]\n",
            " [  2  53  15]\n",
            " [ 53  15  23]\n",
            " [ 15  23  36]]\n",
            "Response:  [557   2   1 139   2  53  15  23  36  19]\n"
          ]
        }
      ]
    },
    {
      "cell_type": "code",
      "source": [
        "y = to_categorical(y, num_classes=vocab_size)\n",
        "y[:5]"
      ],
      "metadata": {
        "colab": {
          "base_uri": "https://localhost:8080/"
        },
        "id": "RGm5VVLgkB4n",
        "outputId": "a8a919d3-9d93-4f2e-ce89-6d449c64a974"
      },
      "execution_count": 12,
      "outputs": [
        {
          "output_type": "execute_result",
          "data": {
            "text/plain": [
              "array([[0., 0., 0., ..., 0., 0., 0.],\n",
              "       [0., 0., 1., ..., 0., 0., 0.],\n",
              "       [0., 1., 0., ..., 0., 0., 0.],\n",
              "       [0., 0., 0., ..., 0., 0., 0.],\n",
              "       [0., 0., 1., ..., 0., 0., 0.]], dtype=float32)"
            ]
          },
          "metadata": {},
          "execution_count": 12
        }
      ]
    },
    {
      "cell_type": "markdown",
      "source": [
        "**Creating the model:**"
      ],
      "metadata": {
        "id": "AdwCPwofkM2q"
      }
    },
    {
      "cell_type": "code",
      "source": [
        "model = Sequential()\n",
        "model.add(Embedding(vocab_size, 10, input_length=3))\n",
        "model.add(LSTM(1000, return_sequences=True))\n",
        "model.add(LSTM(1000))\n",
        "model.add(Dense(1000, activation=\"relu\"))\n",
        "model.add(Dense(vocab_size, activation=\"softmax\"))"
      ],
      "metadata": {
        "id": "W51kkGqgkEUa"
      },
      "execution_count": 13,
      "outputs": []
    },
    {
      "cell_type": "code",
      "source": [
        "model.summary()"
      ],
      "metadata": {
        "colab": {
          "base_uri": "https://localhost:8080/"
        },
        "id": "kPR3g0ATkQAe",
        "outputId": "23890a7a-b7a3-4632-a13d-9025eb1dd228"
      },
      "execution_count": 14,
      "outputs": [
        {
          "output_type": "stream",
          "name": "stdout",
          "text": [
            "Model: \"sequential\"\n",
            "_________________________________________________________________\n",
            " Layer (type)                Output Shape              Param #   \n",
            "=================================================================\n",
            " embedding (Embedding)       (None, 3, 10)             70920     \n",
            "                                                                 \n",
            " lstm (LSTM)                 (None, 3, 1000)           4044000   \n",
            "                                                                 \n",
            " lstm_1 (LSTM)               (None, 1000)              8004000   \n",
            "                                                                 \n",
            " dense (Dense)               (None, 1000)              1001000   \n",
            "                                                                 \n",
            " dense_1 (Dense)             (None, 7092)              7099092   \n",
            "                                                                 \n",
            "=================================================================\n",
            "Total params: 20,219,012\n",
            "Trainable params: 20,219,012\n",
            "Non-trainable params: 0\n",
            "_________________________________________________________________\n"
          ]
        }
      ]
    },
    {
      "cell_type": "markdown",
      "source": [
        "**Plotting the model:**"
      ],
      "metadata": {
        "id": "Mfd2f8aykVNI"
      }
    },
    {
      "cell_type": "code",
      "source": [
        "from tensorflow import keras\n",
        "from keras.utils.vis_utils import plot_model\n",
        "\n",
        "keras.utils.plot_model(model, to_file='plot.png', show_layer_names=True)"
      ],
      "metadata": {
        "colab": {
          "base_uri": "https://localhost:8080/",
          "height": 564
        },
        "id": "cq20-7RQkSGD",
        "outputId": "67512aec-0813-45a3-9616-a8bba07e6a07"
      },
      "execution_count": 15,
      "outputs": [
        {
          "output_type": "execute_result",
          "data": {
            "text/plain": [
              "<IPython.core.display.Image object>"
            ],
            "image/png": "[encoded data removed]"
          },
          "metadata": {},
          "execution_count": 15
        }
      ]
    },
    {
      "cell_type": "markdown",
      "source": [
        "**Training the model:**"
      ],
      "metadata": {
        "id": "JccybS-Dkewo"
      }
    },
    {
      "cell_type": "code",
      "source": [
        "from tensorflow.keras.callbacks import ModelCheckpoint\n",
        "\n",
        "checkpoint = ModelCheckpoint(\"next_words.h5\", monitor='loss', verbose=1, save_best_only=True)\n",
        "model.compile(loss=\"categorical_crossentropy\", optimizer=Adam(learning_rate=0.001))\n",
        "model.fit(X, y, epochs=70, batch_size=64, callbacks=[checkpoint])"
      ],
      "metadata": {
        "colab": {
          "base_uri": "https://localhost:8080/"
        },
        "id": "p2tlWtdnkUyz",
        "outputId": "8752db76-f986-4df3-ab2e-a3f3904e9812"
      },
      "execution_count": 16,
      "outputs": [
        {
          "output_type": "stream",
          "name": "stdout",
          "text": [
            "Epoch 1/70\n",
            "921/922 [============================>.] - ETA: 0s - loss: 6.8690\n",
            "Epoch 1: loss improved from inf to 6.86857, saving model to next_words.h5\n",
            "922/922 [==============================] - 37s 32ms/step - loss: 6.8686\n",
            "Epoch 2/70\n",
            "921/922 [============================>.] - ETA: 0s - loss: 6.3739\n",
            "Epoch 2: loss improved from 6.86857 to 6.37386, saving model to next_words.h5\n",
            "922/922 [==============================] - 30s 32ms/step - loss: 6.3739\n",
            "Epoch 3/70\n",
            "921/922 [============================>.] - ETA: 0s - loss: 6.0322\n",
            "Epoch 3: loss improved from 6.37386 to 6.03208, saving model to next_words.h5\n",
            "922/922 [==============================] - 29s 32ms/step - loss: 6.0321\n",
            "Epoch 4/70\n",
            "921/922 [============================>.] - ETA: 0s - loss: 5.7231\n",
            "Epoch 4: loss improved from 6.03208 to 5.72361, saving model to next_words.h5\n",
            "922/922 [==============================] - 30s 32ms/step - loss: 5.7236\n",
            "Epoch 5/70\n",
            "921/922 [============================>.] - ETA: 0s - loss: 5.4140\n",
            "Epoch 5: loss improved from 5.72361 to 5.41366, saving model to next_words.h5\n",
            "922/922 [==============================] - 30s 32ms/step - loss: 5.4137\n",
            "Epoch 6/70\n",
            "921/922 [============================>.] - ETA: 0s - loss: 5.1099\n",
            "Epoch 6: loss improved from 5.41366 to 5.10989, saving model to next_words.h5\n",
            "922/922 [==============================] - 30s 32ms/step - loss: 5.1099\n",
            "Epoch 7/70\n",
            "921/922 [============================>.] - ETA: 0s - loss: 4.7973\n",
            "Epoch 7: loss improved from 5.10989 to 4.79760, saving model to next_words.h5\n",
            "922/922 [==============================] - 30s 32ms/step - loss: 4.7976\n",
            "Epoch 8/70\n",
            "922/922 [==============================] - ETA: 0s - loss: 4.4727\n",
            "Epoch 8: loss improved from 4.79760 to 4.47275, saving model to next_words.h5\n",
            "922/922 [==============================] - 30s 32ms/step - loss: 4.4727\n",
            "Epoch 9/70\n",
            "921/922 [============================>.] - ETA: 0s - loss: 4.1393\n",
            "Epoch 9: loss improved from 4.47275 to 4.13945, saving model to next_words.h5\n",
            "922/922 [==============================] - 30s 32ms/step - loss: 4.1395\n",
            "Epoch 10/70\n",
            "921/922 [============================>.] - ETA: 0s - loss: 3.8115\n",
            "Epoch 10: loss improved from 4.13945 to 3.81147, saving model to next_words.h5\n",
            "922/922 [==============================] - 30s 32ms/step - loss: 3.8115\n",
            "Epoch 11/70\n",
            "921/922 [============================>.] - ETA: 0s - loss: 3.4904\n",
            "Epoch 11: loss improved from 3.81147 to 3.49023, saving model to next_words.h5\n",
            "922/922 [==============================] - 30s 32ms/step - loss: 3.4902\n",
            "Epoch 12/70\n",
            "921/922 [============================>.] - ETA: 0s - loss: 3.1874\n",
            "Epoch 12: loss improved from 3.49023 to 3.18800, saving model to next_words.h5\n",
            "922/922 [==============================] - 30s 32ms/step - loss: 3.1880\n",
            "Epoch 13/70\n",
            "921/922 [============================>.] - ETA: 0s - loss: 2.9097\n",
            "Epoch 13: loss improved from 3.18800 to 2.90982, saving model to next_words.h5\n",
            "922/922 [==============================] - 30s 32ms/step - loss: 2.9098\n",
            "Epoch 14/70\n",
            "921/922 [============================>.] - ETA: 0s - loss: 2.6585\n",
            "Epoch 14: loss improved from 2.90982 to 2.65855, saving model to next_words.h5\n",
            "922/922 [==============================] - 30s 32ms/step - loss: 2.6585\n",
            "Epoch 15/70\n",
            "921/922 [============================>.] - ETA: 0s - loss: 2.4170\n",
            "Epoch 15: loss improved from 2.65855 to 2.41709, saving model to next_words.h5\n",
            "922/922 [==============================] - 30s 32ms/step - loss: 2.4171\n",
            "Epoch 16/70\n",
            "921/922 [============================>.] - ETA: 0s - loss: 2.1940\n",
            "Epoch 16: loss improved from 2.41709 to 2.19408, saving model to next_words.h5\n",
            "922/922 [==============================] - 30s 32ms/step - loss: 2.1941\n",
            "Epoch 17/70\n",
            "921/922 [============================>.] - ETA: 0s - loss: 1.9859\n",
            "Epoch 17: loss improved from 2.19408 to 1.98600, saving model to next_words.h5\n",
            "922/922 [==============================] - 30s 32ms/step - loss: 1.9860\n",
            "Epoch 18/70\n",
            "921/922 [============================>.] - ETA: 0s - loss: 1.7881\n",
            "Epoch 18: loss improved from 1.98600 to 1.78803, saving model to next_words.h5\n",
            "922/922 [==============================] - 30s 32ms/step - loss: 1.7880\n",
            "Epoch 19/70\n",
            "922/922 [==============================] - ETA: 0s - loss: 1.5940\n",
            "Epoch 19: loss improved from 1.78803 to 1.59399, saving model to next_words.h5\n",
            "922/922 [==============================] - 30s 32ms/step - loss: 1.5940\n",
            "Epoch 20/70\n",
            "921/922 [============================>.] - ETA: 0s - loss: 1.4259\n",
            "Epoch 20: loss improved from 1.59399 to 1.42583, saving model to next_words.h5\n",
            "922/922 [==============================] - 30s 32ms/step - loss: 1.4258\n",
            "Epoch 21/70\n",
            "921/922 [============================>.] - ETA: 0s - loss: 1.2642\n",
            "Epoch 21: loss improved from 1.42583 to 1.26434, saving model to next_words.h5\n",
            "922/922 [==============================] - 30s 32ms/step - loss: 1.2643\n",
            "Epoch 22/70\n",
            "921/922 [============================>.] - ETA: 0s - loss: 1.1255\n",
            "Epoch 22: loss improved from 1.26434 to 1.12581, saving model to next_words.h5\n",
            "922/922 [==============================] - 30s 32ms/step - loss: 1.1258\n",
            "Epoch 23/70\n",
            "921/922 [============================>.] - ETA: 0s - loss: 1.0051\n",
            "Epoch 23: loss improved from 1.12581 to 1.00505, saving model to next_words.h5\n",
            "922/922 [==============================] - 30s 32ms/step - loss: 1.0051\n",
            "Epoch 24/70\n",
            "921/922 [============================>.] - ETA: 0s - loss: 0.8935\n",
            "Epoch 24: loss improved from 1.00505 to 0.89372, saving model to next_words.h5\n",
            "922/922 [==============================] - 30s 32ms/step - loss: 0.8937\n",
            "Epoch 25/70\n",
            "921/922 [============================>.] - ETA: 0s - loss: 0.8089\n",
            "Epoch 25: loss improved from 0.89372 to 0.80901, saving model to next_words.h5\n",
            "922/922 [==============================] - 30s 32ms/step - loss: 0.8090\n",
            "Epoch 26/70\n",
            "921/922 [============================>.] - ETA: 0s - loss: 0.7328\n",
            "Epoch 26: loss improved from 0.80901 to 0.73292, saving model to next_words.h5\n",
            "922/922 [==============================] - 30s 32ms/step - loss: 0.7329\n",
            "Epoch 27/70\n",
            "922/922 [==============================] - ETA: 0s - loss: 0.6756\n",
            "Epoch 27: loss improved from 0.73292 to 0.67557, saving model to next_words.h5\n",
            "922/922 [==============================] - 30s 32ms/step - loss: 0.6756\n",
            "Epoch 28/70\n",
            "921/922 [============================>.] - ETA: 0s - loss: 0.6314\n",
            "Epoch 28: loss improved from 0.67557 to 0.63154, saving model to next_words.h5\n",
            "922/922 [==============================] - 30s 32ms/step - loss: 0.6315\n",
            "Epoch 29/70\n",
            "921/922 [============================>.] - ETA: 0s - loss: 0.5903\n",
            "Epoch 29: loss improved from 0.63154 to 0.59056, saving model to next_words.h5\n",
            "922/922 [==============================] - 29s 32ms/step - loss: 0.5906\n",
            "Epoch 30/70\n",
            "921/922 [============================>.] - ETA: 0s - loss: 0.5597\n",
            "Epoch 30: loss improved from 0.59056 to 0.55998, saving model to next_words.h5\n",
            "922/922 [==============================] - 29s 32ms/step - loss: 0.5600\n",
            "Epoch 31/70\n",
            "921/922 [============================>.] - ETA: 0s - loss: 0.5351\n",
            "Epoch 31: loss improved from 0.55998 to 0.53531, saving model to next_words.h5\n",
            "922/922 [==============================] - 30s 32ms/step - loss: 0.5353\n",
            "Epoch 32/70\n",
            "921/922 [============================>.] - ETA: 0s - loss: 0.5072\n",
            "Epoch 32: loss improved from 0.53531 to 0.50729, saving model to next_words.h5\n",
            "922/922 [==============================] - 30s 32ms/step - loss: 0.5073\n",
            "Epoch 33/70\n",
            "921/922 [============================>.] - ETA: 0s - loss: 0.4926\n",
            "Epoch 33: loss improved from 0.50729 to 0.49222, saving model to next_words.h5\n",
            "922/922 [==============================] - 30s 32ms/step - loss: 0.4922\n",
            "Epoch 34/70\n",
            "921/922 [============================>.] - ETA: 0s - loss: 0.4716\n",
            "Epoch 34: loss improved from 0.49222 to 0.47162, saving model to next_words.h5\n",
            "922/922 [==============================] - 30s 32ms/step - loss: 0.4716\n",
            "Epoch 35/70\n",
            "921/922 [============================>.] - ETA: 0s - loss: 0.4624\n",
            "Epoch 35: loss improved from 0.47162 to 0.46259, saving model to next_words.h5\n",
            "922/922 [==============================] - 30s 32ms/step - loss: 0.4626\n",
            "Epoch 36/70\n",
            "922/922 [==============================] - ETA: 0s - loss: 0.4450\n",
            "Epoch 36: loss improved from 0.46259 to 0.44504, saving model to next_words.h5\n",
            "922/922 [==============================] - 30s 32ms/step - loss: 0.4450\n",
            "Epoch 37/70\n",
            "921/922 [============================>.] - ETA: 0s - loss: 0.4331\n",
            "Epoch 37: loss improved from 0.44504 to 0.43304, saving model to next_words.h5\n",
            "922/922 [==============================] - 30s 32ms/step - loss: 0.4330\n",
            "Epoch 38/70\n",
            "922/922 [==============================] - ETA: 0s - loss: 0.4207\n",
            "Epoch 38: loss improved from 0.43304 to 0.42068, saving model to next_words.h5\n",
            "922/922 [==============================] - 30s 32ms/step - loss: 0.4207\n",
            "Epoch 39/70\n",
            "921/922 [============================>.] - ETA: 0s - loss: 0.4109\n",
            "Epoch 39: loss improved from 0.42068 to 0.41098, saving model to next_words.h5\n",
            "922/922 [==============================] - 30s 32ms/step - loss: 0.4110\n",
            "Epoch 40/70\n",
            "922/922 [==============================] - ETA: 0s - loss: 0.4055\n",
            "Epoch 40: loss improved from 0.41098 to 0.40551, saving model to next_words.h5\n",
            "922/922 [==============================] - 30s 32ms/step - loss: 0.4055\n",
            "Epoch 41/70\n",
            "921/922 [============================>.] - ETA: 0s - loss: 0.3962\n",
            "Epoch 41: loss improved from 0.40551 to 0.39646, saving model to next_words.h5\n",
            "922/922 [==============================] - 30s 32ms/step - loss: 0.3965\n",
            "Epoch 42/70\n",
            "922/922 [==============================] - ETA: 0s - loss: 0.3888\n",
            "Epoch 42: loss improved from 0.39646 to 0.38883, saving model to next_words.h5\n",
            "922/922 [==============================] - 30s 32ms/step - loss: 0.3888\n",
            "Epoch 43/70\n",
            "921/922 [============================>.] - ETA: 0s - loss: 0.3793\n",
            "Epoch 43: loss improved from 0.38883 to 0.37943, saving model to next_words.h5\n",
            "922/922 [==============================] - 30s 32ms/step - loss: 0.3794\n",
            "Epoch 44/70\n",
            "921/922 [============================>.] - ETA: 0s - loss: 0.3655\n",
            "Epoch 44: loss improved from 0.37943 to 0.36553, saving model to next_words.h5\n",
            "922/922 [==============================] - 30s 32ms/step - loss: 0.3655\n",
            "Epoch 45/70\n",
            "922/922 [==============================] - ETA: 0s - loss: 0.3632\n",
            "Epoch 45: loss improved from 0.36553 to 0.36316, saving model to next_words.h5\n",
            "922/922 [==============================] - 30s 32ms/step - loss: 0.3632\n",
            "Epoch 46/70\n",
            "922/922 [==============================] - ETA: 0s - loss: 0.3635\n",
            "Epoch 46: loss did not improve from 0.36316\n",
            "922/922 [==============================] - 29s 32ms/step - loss: 0.3635\n",
            "Epoch 47/70\n",
            "921/922 [============================>.] - ETA: 0s - loss: 0.3516\n",
            "Epoch 47: loss improved from 0.36316 to 0.35174, saving model to next_words.h5\n",
            "922/922 [==============================] - 30s 32ms/step - loss: 0.3517\n",
            "Epoch 48/70\n",
            "921/922 [============================>.] - ETA: 0s - loss: 0.3537\n",
            "Epoch 48: loss did not improve from 0.35174\n",
            "922/922 [==============================] - 29s 32ms/step - loss: 0.3537\n",
            "Epoch 49/70\n",
            "921/922 [============================>.] - ETA: 0s - loss: 0.3449\n",
            "Epoch 49: loss improved from 0.35174 to 0.34495, saving model to next_words.h5\n",
            "922/922 [==============================] - 30s 32ms/step - loss: 0.3450\n",
            "Epoch 50/70\n",
            "921/922 [============================>.] - ETA: 0s - loss: 0.3388\n",
            "Epoch 50: loss improved from 0.34495 to 0.33904, saving model to next_words.h5\n",
            "922/922 [==============================] - 30s 32ms/step - loss: 0.3390\n",
            "Epoch 51/70\n",
            "921/922 [============================>.] - ETA: 0s - loss: 0.3332\n",
            "Epoch 51: loss improved from 0.33904 to 0.33308, saving model to next_words.h5\n",
            "922/922 [==============================] - 30s 32ms/step - loss: 0.3331\n",
            "Epoch 52/70\n",
            "921/922 [============================>.] - ETA: 0s - loss: 0.3266\n",
            "Epoch 52: loss improved from 0.33308 to 0.32704, saving model to next_words.h5\n",
            "922/922 [==============================] - 30s 32ms/step - loss: 0.3270\n",
            "Epoch 53/70\n",
            "921/922 [============================>.] - ETA: 0s - loss: 0.3320\n",
            "Epoch 53: loss did not improve from 0.32704\n",
            "922/922 [==============================] - 29s 32ms/step - loss: 0.3320\n",
            "Epoch 54/70\n",
            "921/922 [============================>.] - ETA: 0s - loss: 0.3282\n",
            "Epoch 54: loss did not improve from 0.32704\n",
            "922/922 [==============================] - 29s 32ms/step - loss: 0.3282\n",
            "Epoch 55/70\n",
            "921/922 [============================>.] - ETA: 0s - loss: 0.3189\n",
            "Epoch 55: loss improved from 0.32704 to 0.31908, saving model to next_words.h5\n",
            "922/922 [==============================] - 30s 32ms/step - loss: 0.3191\n",
            "Epoch 56/70\n",
            "921/922 [============================>.] - ETA: 0s - loss: 0.3130\n",
            "Epoch 56: loss improved from 0.31908 to 0.31302, saving model to next_words.h5\n",
            "922/922 [==============================] - 30s 32ms/step - loss: 0.3130\n",
            "Epoch 57/70\n",
            "921/922 [============================>.] - ETA: 0s - loss: 0.3106\n",
            "Epoch 57: loss improved from 0.31302 to 0.31053, saving model to next_words.h5\n",
            "922/922 [==============================] - 30s 32ms/step - loss: 0.3105\n",
            "Epoch 58/70\n",
            "921/922 [============================>.] - ETA: 0s - loss: 0.3129\n",
            "Epoch 58: loss did not improve from 0.31053\n",
            "922/922 [==============================] - 29s 32ms/step - loss: 0.3130\n",
            "Epoch 59/70\n",
            "921/922 [============================>.] - ETA: 0s - loss: 0.3064\n",
            "Epoch 59: loss improved from 0.31053 to 0.30661, saving model to next_words.h5\n",
            "922/922 [==============================] - 30s 32ms/step - loss: 0.3066\n",
            "Epoch 60/70\n",
            "921/922 [============================>.] - ETA: 0s - loss: 0.3004\n",
            "Epoch 60: loss improved from 0.30661 to 0.30038, saving model to next_words.h5\n",
            "922/922 [==============================] - 30s 32ms/step - loss: 0.3004\n",
            "Epoch 61/70\n",
            "921/922 [============================>.] - ETA: 0s - loss: 0.3081\n",
            "Epoch 61: loss did not improve from 0.30038\n",
            "922/922 [==============================] - 29s 32ms/step - loss: 0.3080\n",
            "Epoch 62/70\n",
            "921/922 [============================>.] - ETA: 0s - loss: 0.3008\n",
            "Epoch 62: loss did not improve from 0.30038\n",
            "922/922 [==============================] - 29s 31ms/step - loss: 0.3008\n",
            "Epoch 63/70\n",
            "921/922 [============================>.] - ETA: 0s - loss: 0.2983\n",
            "Epoch 63: loss improved from 0.30038 to 0.29851, saving model to next_words.h5\n",
            "922/922 [==============================] - 30s 32ms/step - loss: 0.2985\n",
            "Epoch 64/70\n",
            "922/922 [==============================] - ETA: 0s - loss: 0.2954\n",
            "Epoch 64: loss improved from 0.29851 to 0.29545, saving model to next_words.h5\n",
            "922/922 [==============================] - 30s 32ms/step - loss: 0.2954\n",
            "Epoch 65/70\n",
            "921/922 [============================>.] - ETA: 0s - loss: 0.2891\n",
            "Epoch 65: loss improved from 0.29545 to 0.28899, saving model to next_words.h5\n",
            "922/922 [==============================] - 30s 32ms/step - loss: 0.2890\n",
            "Epoch 66/70\n",
            "921/922 [============================>.] - ETA: 0s - loss: 0.2876\n",
            "Epoch 66: loss improved from 0.28899 to 0.28748, saving model to next_words.h5\n",
            "922/922 [==============================] - 30s 32ms/step - loss: 0.2875\n",
            "Epoch 67/70\n",
            "921/922 [============================>.] - ETA: 0s - loss: 0.2834\n",
            "Epoch 67: loss improved from 0.28748 to 0.28335, saving model to next_words.h5\n",
            "922/922 [==============================] - 30s 32ms/step - loss: 0.2834\n",
            "Epoch 68/70\n",
            "921/922 [============================>.] - ETA: 0s - loss: 0.2883\n",
            "Epoch 68: loss did not improve from 0.28335\n",
            "922/922 [==============================] - 29s 32ms/step - loss: 0.2885\n",
            "Epoch 69/70\n",
            "922/922 [==============================] - ETA: 0s - loss: 0.2815\n",
            "Epoch 69: loss improved from 0.28335 to 0.28150, saving model to next_words.h5\n",
            "922/922 [==============================] - 30s 32ms/step - loss: 0.2815\n",
            "Epoch 70/70\n",
            "921/922 [============================>.] - ETA: 0s - loss: 0.2817\n",
            "Epoch 70: loss did not improve from 0.28150\n",
            "922/922 [==============================] - 29s 32ms/step - loss: 0.2818\n"
          ]
        },
        {
          "output_type": "execute_result",
          "data": {
            "text/plain": [
              "<keras.callbacks.History at 0x7fdfb5e679d0>"
            ]
          },
          "metadata": {},
          "execution_count": 16
        }
      ]
    },
    {
      "cell_type": "markdown",
      "source": [
        "**Prediction:**"
      ],
      "metadata": {
        "id": "k7pSbGB3tN7S"
      }
    },
    {
      "cell_type": "code",
      "source": [
        "from tensorflow.keras.models import load_model\n",
        "import numpy as np\n",
        "import pickle\n",
        "\n",
        "# Load the model and tokenizer\n",
        "model = load_model('next_words.h5')\n",
        "tokenizer = pickle.load(open('token.pkl', 'rb'))\n",
        "\n",
        "def Predict_Next_Words(model, tokenizer, text):\n",
        "\n",
        "  sequence = tokenizer.texts_to_sequences([text])\n",
        "  sequence = np.array(sequence)\n",
        "  preds = np.argmax(model.predict(sequence))\n",
        "  predicted_word = \"\"\n",
        "  \n",
        "  for key, value in tokenizer.word_index.items():\n",
        "      if value == preds:\n",
        "          predicted_word = key\n",
        "          break\n",
        "  \n",
        "  print(predicted_word)\n",
        "  return predicted_word"
      ],
      "metadata": {
        "id": "tsLmu0VBki8N"
      },
      "execution_count": 17,
      "outputs": []
    },
    {
      "cell_type": "code",
      "source": [
        "while(True):\n",
        "  text = input(\"Enter your line: \")\n",
        "  \n",
        "  if text == \"0\":\n",
        "      print(\"Execution completed.....\")\n",
        "      break\n",
        "  \n",
        "  else:\n",
        "      try:\n",
        "          text = text.split(\" \")\n",
        "          text = text[-3:]\n",
        "          print(text)\n",
        "        \n",
        "          Predict_Next_Words(model, tokenizer, text)\n",
        "          \n",
        "      except Exception as e:\n",
        "        print(\"Error occurred: \",e)\n",
        "        continue"
      ],
      "metadata": {
        "colab": {
          "base_uri": "https://localhost:8080/"
        },
        "id": "tW8YGtEgtQ6R",
        "outputId": "f653c3de-15cc-4390-d009-5a6ab00d7b5d"
      },
      "execution_count": null,
      "outputs": [
        {
          "output_type": "stream",
          "name": "stdout",
          "text": [
            "Enter your line: hello\n",
            "['hello']\n",
            "Error occurred:  in user code:\n",
            "\n",
            "    File \"/usr/local/lib/python3.7/dist-packages/keras/engine/training.py\", line 1801, in predict_function  *\n",
            "        return step_function(self, iterator)\n",
            "    File \"/usr/local/lib/python3.7/dist-packages/keras/engine/training.py\", line 1790, in step_function  **\n",
            "        outputs = model.distribute_strategy.run(run_step, args=(data,))\n",
            "    File \"/usr/local/lib/python3.7/dist-packages/keras/engine/training.py\", line 1783, in run_step  **\n",
            "        outputs = model.predict_step(data)\n",
            "    File \"/usr/local/lib/python3.7/dist-packages/keras/engine/training.py\", line 1751, in predict_step\n",
            "        return self(x, training=False)\n",
            "    File \"/usr/local/lib/python3.7/dist-packages/keras/utils/traceback_utils.py\", line 67, in error_handler\n",
            "        raise e.with_traceback(filtered_tb) from None\n",
            "    File \"/usr/local/lib/python3.7/dist-packages/keras/engine/input_spec.py\", line 264, in assert_input_compatibility\n",
            "        raise ValueError(f'Input {input_index} of layer \"{layer_name}\" is '\n",
            "\n",
            "    ValueError: Input 0 of layer \"sequential\" is incompatible with the layer: expected shape=(None, 3), found shape=(None, 0)\n",
            "\n",
            "Enter your line: guten\n",
            "['guten']\n",
            "Error occurred:  in user code:\n",
            "\n",
            "    File \"/usr/local/lib/python3.7/dist-packages/keras/engine/training.py\", line 1801, in predict_function  *\n",
            "        return step_function(self, iterator)\n",
            "    File \"/usr/local/lib/python3.7/dist-packages/keras/engine/training.py\", line 1790, in step_function  **\n",
            "        outputs = model.distribute_strategy.run(run_step, args=(data,))\n",
            "    File \"/usr/local/lib/python3.7/dist-packages/keras/engine/training.py\", line 1783, in run_step  **\n",
            "        outputs = model.predict_step(data)\n",
            "    File \"/usr/local/lib/python3.7/dist-packages/keras/engine/training.py\", line 1751, in predict_step\n",
            "        return self(x, training=False)\n",
            "    File \"/usr/local/lib/python3.7/dist-packages/keras/utils/traceback_utils.py\", line 67, in error_handler\n",
            "        raise e.with_traceback(filtered_tb) from None\n",
            "    File \"/usr/local/lib/python3.7/dist-packages/keras/engine/input_spec.py\", line 264, in assert_input_compatibility\n",
            "        raise ValueError(f'Input {input_index} of layer \"{layer_name}\" is '\n",
            "\n",
            "    ValueError: Input 0 of layer \"sequential\" is incompatible with the layer: expected shape=(None, 3), found shape=(None, 0)\n",
            "\n",
            "Enter your line: gutenberg\n",
            "['gutenberg']\n",
            "yao\n"
          ]
        }
      ]
    },
    {
      "cell_type": "markdown",
      "source": [
        "---"
      ],
      "metadata": {
        "id": "GhbWPzAKubH4"
      }
    }
  ]
}